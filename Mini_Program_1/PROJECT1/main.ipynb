{
 "cells": [
  {
   "cell_type": "code",
   "execution_count": 195,
   "metadata": {},
   "outputs": [],
   "source": [
    "import tweepy #https://github.com/tweepy/tweepy\n",
    "import json\n",
    "import urllib.request\n",
    "import re\n",
    "import os\n",
    "import shutil\n",
    "#Twitter API credentials\n",
    "consumer_key = \"xxxxxxxxxxxxxxxxxxxxxxxxxxx\"\n",
    "consumer_secret = \"xxxxxxxxxxxxxxxxxxxxxxxxxxxxxx\"\n",
    "access_key = \"xxxxxxxxxxxxxxxxxxxxxxxxxxxxxxxx\"\n",
    "access_secret = \"xxxxxxxxxxxxxxxxxxxxxxxxxxxxxxxxxxxx\""
   ]
  },
  {
   "cell_type": "code",
   "execution_count": 167,
   "metadata": {},
   "outputs": [],
   "source": [
    "def get_all_tweets(screen_name):\n",
    "    #authorize twitter, initialize tweepy\n",
    "    auth = tweepy.OAuthHandler(consumer_key, consumer_secret)\n",
    "    auth.set_access_token(access_key, access_secret)\n",
    "    api = tweepy.API(auth)\n",
    "    #initialize a list to hold all the tweepy Tweets\n",
    "    alltweets = []    \n",
    "    #make initial request for most recent tweets (200 is the maximum allowed count)\n",
    "    new_tweets = api.user_timeline(screen_name = screen_name,count=10)\n",
    "    #save most recent tweets\n",
    "    alltweets.extend(new_tweets)\n",
    "    #save the id of the oldest tweet less one\n",
    "    oldest = alltweets[-1].id - 1\n",
    "    #keep grabbing tweets until there are no tweets left to grab\n",
    "    while len(new_tweets) > 0:\n",
    "        #all subsiquent requests use the max_id param to prevent duplicates\n",
    "        new_tweets = api.user_timeline(screen_name = screen_name,count=10,max_id=oldest)\n",
    "        #save most recent tweets\n",
    "        alltweets.extend(new_tweets)\n",
    "        #update the id of the oldest tweet less one\n",
    "        oldest = alltweets[-1].id - 1\n",
    "        if(len(alltweets) > 15):\n",
    "            break\n",
    "    return(alltweets)"
   ]
  },
  {
   "cell_type": "code",
   "execution_count": 168,
   "metadata": {},
   "outputs": [],
   "source": [
    "def get_image_urls(screen_name):\n",
    "    tweets=get_all_tweets(screen_name)\n",
    "    media_files = set()\n",
    "    for status in tweets:\n",
    "        try:\n",
    "            media = status.extended_entities.get('media',[])\n",
    "            if(len(media) > 0):\n",
    "                for item in media:\n",
    "        #            media_files.add(media[0]['media_url'])\n",
    "                    media_files.add(item['media_url'])\n",
    "        #    print(media_files)\n",
    "        except:\n",
    "            media=status.entities.get('media',[])\n",
    "            if(len(media)>0):\n",
    "                media_files.add(media[0]['media_url'])\n",
    "    return(media_files)"
   ]
  },
  {
   "cell_type": "code",
   "execution_count": 244,
   "metadata": {},
   "outputs": [],
   "source": [
    "def download_images(screen_name):\n",
    "    #get image urls\n",
    "    url_list=get_image_urls(screen_name)\n",
    "    #creat a new folder\n",
    "    folder=os.path.exists('./'+screen_name)\n",
    "    if folder:\n",
    "        os.chmod('./'+screen_name, 0o777)\n",
    "        shutil.rmtree('./'+screen_name)\n",
    "    os.makedirs('./'+screen_name)\n",
    "    #download images to new folder\n",
    "    for url in url_list:\n",
    "        print(url)\n",
    "        identity=str(re.findall(r\"http://pbs.twimg.com/media/([^.]+)\\.jpg\",url))\n",
    "        if(len(identity)<=2):\n",
    "            identity=str(re.findall(r\"img/([^.]+)\\.jpg\",url))\n",
    "        image_name=\"img_\"+identity\n",
    "        urllib.request.urlretrieve(url,'./'+screen_name+'/'+image_name+'.jpg')"
   ]
  },
  {
   "cell_type": "code",
   "execution_count": 174,
   "metadata": {},
   "outputs": [],
   "source": [
    "if __name__ == '__main__':\n",
    "    #pass in the username of the account you want to download\n",
    "    download_images('@realDonaldTrump')"
   ]
  },
  {
   "cell_type": "code",
   "execution_count": null,
   "metadata": {},
   "outputs": [],
   "source": []
  }
 ],
 "metadata": {
  "kernelspec": {
   "display_name": "Python 3",
   "language": "python",
   "name": "python3"
  },
  "language_info": {
   "codemirror_mode": {
    "name": "ipython",
    "version": 3
   },
   "file_extension": ".py",
   "mimetype": "text/x-python",
   "name": "python",
   "nbconvert_exporter": "python",
   "pygments_lexer": "ipython3",
   "version": "3.6.5"
  }
 },
 "nbformat": 4,
 "nbformat_minor": 2
}
