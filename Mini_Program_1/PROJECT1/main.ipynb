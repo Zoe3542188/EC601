{
 "cells": [
  {
   "cell_type": "code",
   "execution_count": 21,
   "metadata": {},
   "outputs": [],
   "source": [
    "import tweepy #https://github.com/tweepy/tweepy\n",
    "import json\n",
    "import urllib.request\n",
    "import re\n",
    "import os\n",
    "import shutil\n",
    "#Twitter API credentials\n",
    "consumer_key = \"kkCOy8p0VI0rjxFgyJsrY8itx\"\n",
    "consumer_secret = \"SnsDRCrZjr8Vaq7rHCMUbyaCEeim9wtWF8CfYHblhTdnICnCwl\"\n",
    "access_key = \"1038144157137739776-rRyI2oJ4pRYkDA5FbkNR1yhTtV0OB1\"\n",
    "access_secret = \"HxLzKsQkXEBOZwieqD28FIZ5TFLlg7WvkisReO1OhAgXi\""
   ]
  },
  {
   "cell_type": "code",
   "execution_count": 31,
   "metadata": {},
   "outputs": [],
   "source": [
    "def get_all_tweets(screen_name):\n",
    "    #authorize twitter, initialize tweepy\n",
    "    auth = tweepy.OAuthHandler(consumer_key, consumer_secret)\n",
    "    auth.set_access_token(access_key, access_secret)\n",
    "    api = tweepy.API(auth)\n",
    "    #initialize a list to hold all the tweepy Tweets\n",
    "    alltweets = []    \n",
    "    #make initial request for most recent tweets (200 is the maximum allowed count)\n",
    "    new_tweets = api.user_timeline(screen_name = screen_name,count=10)\n",
    "    #save most recent tweets\n",
    "    alltweets.extend(new_tweets)\n",
    "    #save the id of the oldest tweet less one\n",
    "    oldest = alltweets[-1].id - 1\n",
    "    #keep grabbing tweets until there are no tweets left to grab\n",
    "    while len(new_tweets) > 0:\n",
    "        #all subsiquent requests use the max_id param to prevent duplicates\n",
    "        new_tweets = api.user_timeline(screen_name = screen_name,count=10,max_id=oldest)\n",
    "        #save most recent tweets\n",
    "        alltweets.extend(new_tweets)\n",
    "        #update the id of the oldest tweet less one\n",
    "        oldest = alltweets[-1].id - 1\n",
    "        if(len(alltweets) > 50):\n",
    "            break\n",
    "    return(alltweets)"
   ]
  },
  {
   "cell_type": "code",
   "execution_count": 32,
   "metadata": {},
   "outputs": [],
   "source": [
    "def get_image_urls(screen_name):\n",
    "    tweets=get_all_tweets(screen_name)\n",
    "    media_files = set()\n",
    "    for status in tweets:\n",
    "        try:\n",
    "            media = status.extended_entities.get('media',[])\n",
    "            if(len(media) > 0):\n",
    "                for item in media:\n",
    "        #            media_files.add(media[0]['media_url'])\n",
    "                    media_files.add(item['media_url'])\n",
    "        #    print(media_files)\n",
    "        except:\n",
    "            media=status.entities.get('media',[])\n",
    "            if(len(media)>0):\n",
    "                media_files.add(media[0]['media_url'])\n",
    "    return(media_files)"
   ]
  },
  {
   "cell_type": "code",
   "execution_count": 33,
   "metadata": {},
   "outputs": [],
   "source": [
    "def download_images(screen_name):\n",
    "    #get image urls\n",
    "    url_list=get_image_urls(screen_name)\n",
    "    #creat a new folder\n",
    "    folder=os.path.exists('./Output/'+screen_name)\n",
    "    if folder:\n",
    "        os.chmod('./Output/'+screen_name, 0o777)\n",
    "        shutil.rmtree('./Output/'+screen_name)\n",
    "    os.makedirs('./Output/'+screen_name)\n",
    "    #download images to new folder\n",
    "    count=0\n",
    "    for url in url_list:\n",
    "        count=count+1\n",
    "        identity='%03d' % count\n",
    "        #transfer to three digits num\n",
    "        #print(url)\n",
    "        #identity=str(re.findall(r\"http://pbs.twimg.com/media/([^.]+)\\.jpg\",url))\n",
    "        #if(len(identity)<=2):\n",
    "            #identity=str(re.findall(r\"img/([^.]+)\\.jpg\",url))\n",
    "        image_name=\"img\"+str(identity)\n",
    "        urllib.request.urlretrieve(url,'./Output/'+screen_name+'/'+image_name+'.jpg')"
   ]
  },
  {
   "cell_type": "code",
   "execution_count": 20,
   "metadata": {},
   "outputs": [],
   "source": [
    "def convert_to_video(screen_name):\n",
    "    video=os.path.exists('./Output/Video/'+screen_name+'.mp4')\n",
    "    if video:\n",
    "        os.chmod('./Output/Video/'+screen_name+'.mp4', 0o777)\n",
    "        os.remove('./Output/Video/'+screen_name+'.mp4')\n",
    "    #os.system(\"ffmpeg -f image2 -r 3 -i Output/\"+screen_name+\"/img%03d.jpg -vf scale=800:400 Output/Video/\"+screen_name+\".mp4\")\n",
    "    os.system(\"ffmpeg -f image2 -i Output/\"+screen_name+\"/img%03d.jpg -vf scale=800:400 -vf setpts=5.0*PTS -vcodec libx264 Output/Video/\"+screen_name+\".mp4\")"
   ]
  },
  {
   "cell_type": "code",
   "execution_count": 41,
   "metadata": {},
   "outputs": [],
   "source": [
    "if __name__ == '__main__':\n",
    "    while(1):\n",
    "        screen_name=input('Please input a twitter account (example:@realDonaldTrump)')\n",
    "        #pass in the username of the account you want to download\n",
    "        print(\"Downloading...\")\n",
    "        download_images(screen_name)\n",
    "        print(\"Converting to video...\")\n",
    "        convert_to_video(screen_name)\n",
    "        while(1):\n",
    "            Flag=input(\"Do u want to see the output video?(y/n)\")\n",
    "            if (Flag==\"y\"):\n",
    "                os.system('cd Output/Video && \"'+screen_name+'.mp4')\n",
    "                break\n",
    "            elif(Flag!=\"n\"):\n",
    "                print(\"please input 'y' or 'n'\")\n",
    "            else:\n",
    "                break\n",
    "        break\n",
    "            #os.system(\"'\"+screen_name+\".mp4\")"
   ]
  },
  {
   "cell_type": "code",
   "execution_count": 26,
   "metadata": {
    "scrolled": true
   },
   "outputs": [
    {
     "data": {
      "text/plain": [
       "1"
      ]
     },
     "execution_count": 26,
     "metadata": {},
     "output_type": "execute_result"
    }
   ],
   "source": [
    "os.system(\"/Output/try.mp4\")"
   ]
  },
  {
   "cell_type": "code",
   "execution_count": null,
   "metadata": {},
   "outputs": [],
   "source": []
  }
 ],
 "metadata": {
  "kernelspec": {
   "display_name": "Python 3",
   "language": "python",
   "name": "python3"
  },
  "language_info": {
   "codemirror_mode": {
    "name": "ipython",
    "version": 3
   },
   "file_extension": ".py",
   "mimetype": "text/x-python",
   "name": "python",
   "nbconvert_exporter": "python",
   "pygments_lexer": "ipython3",
   "version": "3.6.5"
  }
 },
 "nbformat": 4,
 "nbformat_minor": 2
}
